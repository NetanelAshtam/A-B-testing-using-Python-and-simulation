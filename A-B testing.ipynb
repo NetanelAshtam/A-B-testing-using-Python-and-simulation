{
 "cells": [
  {
   "cell_type": "code",
   "execution_count": 20,
   "metadata": {},
   "outputs": [],
   "source": [
    "import numpy as np\n",
    "import scipy.stats\n",
    "from  scipy.stats import beta"
   ]
  },
  {
   "cell_type": "code",
   "execution_count": 21,
   "metadata": {},
   "outputs": [],
   "source": [
    "group_size = 1000\n",
    "A_group = np.random.rand(group_size)\n",
    "B_group = np.random.rand(group_size) "
   ]
  },
  {
   "cell_type": "code",
   "execution_count": 22,
   "metadata": {},
   "outputs": [],
   "source": [
    "A_successes= sum(A_group < 0.15)\n",
    "B_successes= sum(B_group < 0.20)\n"
   ]
  },
  {
   "cell_type": "code",
   "execution_count": 23,
   "metadata": {},
   "outputs": [],
   "source": [
    "A_failiur = group_size - A_successes\n",
    "B_failiur = group_size - B_successes\n"
   ]
  },
  {
   "cell_type": "code",
   "execution_count": 24,
   "metadata": {},
   "outputs": [],
   "source": [
    "A_post = beta(A_successes + 8 , A_failiur + 42 )\n",
    "B_post = beta(B_successes + 8 , B_failiur + 42 ) "
   ]
  },
  {
   "cell_type": "code",
   "execution_count": 25,
   "metadata": {},
   "outputs": [],
   "source": [
    "import matplotlib.pyplot as plt\n",
    "import seaborn as sns\n",
    "import pandas as pd"
   ]
  },
  {
   "cell_type": "code",
   "execution_count": 26,
   "metadata": {},
   "outputs": [
    {
     "data": {
      "image/png": "[encoded data removed]",
      "text/plain": [
       "<Figure size 360x270 with 1 Axes>"
      ]
     },
     "metadata": {
      "needs_background": "light"
     },
     "output_type": "display_data"
    }
   ],
   "source": [
    "alpha_values = [A_successes,B_successes]\n",
    "beta_values = [A_failiur,B_failiur ]\n",
    "linestyles = ['-', '--', ':', '-.']\n",
    "x = np.linspace(0, 1, 1002)[1:-1]\n",
    "\n",
    "#------------------------------------------------------------\n",
    "# plot the distributions\n",
    "fig, ax = plt.subplots(figsize=(5, 3.75))\n",
    "\n",
    "for a, b, ls in zip(alpha_values, beta_values, linestyles):\n",
    "    dist = beta(a, b)\n",
    "\n",
    "    plt.plot(x, dist.pdf(x), ls=ls, c='black',\n",
    "             label=r'$\\alpha=%.1f,\\ \\beta=%.1f$' % (a, b))\n",
    "    \n",
    "    plt.axvline(dist.mean(), color='r', linestyle='dashed', linewidth=1)\n",
    "\n",
    "\n",
    "plt.xlim(0, 0.6)\n",
    "plt.ylim(0, 40)\n",
    "\n",
    "plt.xlabel('click rate')\n",
    "plt.ylabel(r'density')\n",
    "plt.title('Beta Distribution')\n",
    "\n",
    "\n",
    "\n",
    "plt.legend(loc=0)\n",
    "plt.show()"
   ]
  },
  {
   "cell_type": "code",
   "execution_count": 27,
   "metadata": {},
   "outputs": [
    {
     "data": {
      "text/plain": [
       "0.98886"
      ]
     },
     "execution_count": 27,
     "metadata": {},
     "output_type": "execute_result"
    }
   ],
   "source": [
    "n_trials = 100000\n",
    "A_sample= pd.Series([A_post.rvs() for i in range(n_trials)])\n",
    "B_sample= pd.Series([B_post.rvs() for i in range(n_trials)])\n",
    "B_wins=sum(B_sample>A_sample)\n",
    "B_wins/n_trials"
   ]
  },
  {
   "cell_type": "code",
   "execution_count": null,
   "metadata": {},
   "outputs": [],
   "source": []
  }
 ],
 "metadata": {
  "kernelspec": {
   "display_name": "Python 3",
   "language": "python",
   "name": "python3"
  },
  "language_info": {
   "codemirror_mode": {
    "name": "ipython",
    "version": 3
   },
   "file_extension": ".py",
   "mimetype": "text/x-python",
   "name": "python",
   "nbconvert_exporter": "python",
   "pygments_lexer": "ipython3",
   "version": "3.7.6"
  }
 },
 "nbformat": 4,
 "nbformat_minor": 4
}
